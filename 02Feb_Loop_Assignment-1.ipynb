{
 "cells": [
  {
   "cell_type": "code",
   "execution_count": null,
   "id": "4925cafd-9dfb-47b7-afbb-0b90c8a3f6f2",
   "metadata": {},
   "outputs": [],
   "source": [
    "Q1. Explain with an example each when to use a for loop and a while loop.\n",
    "Ans:- A for loop is typically used when you know the number of times you want\n",
    "to repeat a block of code. It is particularly useful when you want to iterate \n",
    "over a sequesnce of elements such as a list, tuple, or a range of numbers. \n",
    "For example, if you want to print the number 1 to 100, you can use a for loop\n",
    "as follows:"
   ]
  },
  {
   "cell_type": "code",
   "execution_count": 1,
   "id": "8d997a77-a544-4239-8999-f63130b02ecb",
   "metadata": {},
   "outputs": [
    {
     "name": "stdout",
     "output_type": "stream",
     "text": [
      "1\n",
      "2\n",
      "3\n",
      "4\n",
      "5\n",
      "6\n",
      "7\n",
      "8\n",
      "9\n",
      "10\n"
     ]
    }
   ],
   "source": [
    "for i in range(1, 11):\n",
    "    print(i)"
   ]
  },
  {
   "cell_type": "code",
   "execution_count": null,
   "id": "fc550536-acb7-4483-9425-df349417ddde",
   "metadata": {},
   "outputs": [],
   "source": [
    "      On the other hand, a while loop is typically used when you want to repeat a block of\n",
    "code until a certain condition is met. The condition is checked before each iteration\n",
    "of the loop. For example, if you want to print all the even numbers between 1 and 10, you \n",
    "can use a while loop as follows:\n"
   ]
  },
  {
   "cell_type": "code",
   "execution_count": 2,
   "id": "37a4789e-d8f2-4c3a-b26f-e8e4634893ae",
   "metadata": {},
   "outputs": [
    {
     "name": "stdout",
     "output_type": "stream",
     "text": [
      "2\n",
      "4\n",
      "6\n",
      "8\n",
      "10\n"
     ]
    }
   ],
   "source": [
    "i = 1\n",
    "while i <= 10:\n",
    "    if i % 2 == 0:\n",
    "        print(i)\n",
    "    i = i + 1"
   ]
  },
  {
   "cell_type": "code",
   "execution_count": null,
   "id": "7f0387c5-0f77-4bae-b4eb-fe9a2bf20293",
   "metadata": {},
   "outputs": [],
   "source": []
  },
  {
   "cell_type": "code",
   "execution_count": null,
   "id": "6032773c-5758-41d0-b0b1-5cb1e5a84b57",
   "metadata": {},
   "outputs": [],
   "source": []
  },
  {
   "cell_type": "code",
   "execution_count": null,
   "id": "168e5615-7b20-4726-abec-965093ba3d4a",
   "metadata": {},
   "outputs": [],
   "source": [
    "Q2. Write a python program to print the sum and product of the first 10 natural \n",
    "number using for and while loop."
   ]
  },
  {
   "cell_type": "code",
   "execution_count": null,
   "id": "15219953-43a2-4d3d-9d13-12b30a5add9c",
   "metadata": {},
   "outputs": [],
   "source": [
    "Ans:- Using for loop:"
   ]
  },
  {
   "cell_type": "code",
   "execution_count": 3,
   "id": "60f1bace-a8b0-4dc8-b886-f0fbe3cd6a51",
   "metadata": {},
   "outputs": [
    {
     "name": "stdout",
     "output_type": "stream",
     "text": [
      "The sum of the first 10 natural numbers is:  55\n",
      "The product of the first 10 natural numbers is:  3628800\n"
     ]
    }
   ],
   "source": [
    "#calculate the sum of the first 10 natural number using a for loop\n",
    "sum = 0\n",
    "for i in range(1, 11):\n",
    "    sum = sum + i\n",
    "print(\"The sum of the first 10 natural numbers is: \", sum)\n",
    "\n",
    "#calculate the product of the first 10 natural number using for loop\n",
    "product = 1\n",
    "for i in range(1, 11):\n",
    "    product = product * i\n",
    "print(\"The product of the first 10 natural numbers is: \", product)"
   ]
  },
  {
   "cell_type": "code",
   "execution_count": null,
   "id": "99f0ad68-9243-42c8-85ea-e4b8c8a58498",
   "metadata": {},
   "outputs": [],
   "source": [
    "      Using while loop:"
   ]
  },
  {
   "cell_type": "code",
   "execution_count": 4,
   "id": "453a70a5-f0aa-43af-96e1-3cea65c2510f",
   "metadata": {},
   "outputs": [
    {
     "name": "stdout",
     "output_type": "stream",
     "text": [
      "The sum of the first 10 natural numbers is:  55\n",
      "The product of the first 10 natural numbers is:  3628800\n"
     ]
    }
   ],
   "source": [
    "#calculate the sum of first 10 natural numbers using a while loop\n",
    "sum = 0\n",
    "i = 1\n",
    "while i <= 10:\n",
    "    sum = sum + i\n",
    "    i = i + 1\n",
    "print(\"The sum of the first 10 natural numbers is: \", sum)\n",
    "\n",
    "#calculate the product of the first 10 natural numbers using a while loop\n",
    "product = 1\n",
    "i = 1\n",
    "while i <= 10:\n",
    "    product = product * i\n",
    "    i = i + 1\n",
    "print(\"The product of the first 10 natural numbers is: \", product)"
   ]
  },
  {
   "cell_type": "code",
   "execution_count": null,
   "id": "85e41404-3f41-4253-a872-09ed75834033",
   "metadata": {},
   "outputs": [],
   "source": []
  },
  {
   "cell_type": "code",
   "execution_count": null,
   "id": "973d4d3c-65d1-412f-95a8-428148838b2c",
   "metadata": {},
   "outputs": [],
   "source": []
  },
  {
   "cell_type": "code",
   "execution_count": null,
   "id": "689a68b1-2c0d-46d5-8820-118b5a8d4788",
   "metadata": {},
   "outputs": [],
   "source": [
    "Q3.Creat a python program to compute the electricity bill for a household.\n",
    "The per-unit charges in rupees are as follows: For the first 100 units, the user will\n",
    "be charged Rs. 4.5 per unit, for the next 100 units, the user will be charged Rs. 6 per\n",
    "unit, and for the next 100 units, the user will be charged Rs. 10 per unit, After 300 \n",
    "units and above the user will be charged Rs. 20 per unit.\n",
    "\n",
    "You are required to take the units of electricity consumed in a month from the user as input.\n",
    "\n",
    "Your program must pass this test case: when the unit of electricity consumed by the user in a\n",
    "month is 310, the total electricity bill should be 2250."
   ]
  },
  {
   "cell_type": "code",
   "execution_count": null,
   "id": "bba8627b-6d71-41eb-9b40-3f2d1c30767e",
   "metadata": {},
   "outputs": [],
   "source": [
    "Ans:- Program for calculate the electricity bill for a household based on the units consumed:"
   ]
  },
  {
   "cell_type": "code",
   "execution_count": 5,
   "id": "c4563055-0ff6-465c-91a2-4cdc7bf4aa80",
   "metadata": {},
   "outputs": [
    {
     "name": "stdin",
     "output_type": "stream",
     "text": [
      "Enter the units of electricity consumed: 310\n"
     ]
    },
    {
     "name": "stdout",
     "output_type": "stream",
     "text": [
      "Your electricity bill for the month is Rs. 2250\n"
     ]
    }
   ],
   "source": [
    "#Take input from user for units consumed\n",
    "units_consumed = int(input(\"Enter the units of electricity consumed:\"))\n",
    "\n",
    "bill_amount = 0\n",
    "\n",
    "if units_consumed <= 100:\n",
    "    bill_amount = units_consumed * 4.5\n",
    "elif units_consumed <= 200:\n",
    "    bill_amount = 100 * 4.5 + (units_consumed - 100) * 6\n",
    "elif units_consumed <= 300:\n",
    "    bill_amount = 100 * 4.5 + 100 * 6 + (units_consumed - 200) * 10\n",
    "else:\n",
    "    bill_amount = 100 * 4.5 + 100 * 6 + 100 * 10 + (units_consumed - 300) * 20\n",
    "\n",
    "print(\"Your electricity bill for the month is Rs.\", int(bill_amount))"
   ]
  },
  {
   "cell_type": "code",
   "execution_count": null,
   "id": "27fda564-1c03-46a4-861f-f4a53f308e4d",
   "metadata": {},
   "outputs": [],
   "source": []
  },
  {
   "cell_type": "code",
   "execution_count": null,
   "id": "aff33ab4-4065-4aff-aa31-1ae2accea9bb",
   "metadata": {},
   "outputs": [],
   "source": []
  },
  {
   "cell_type": "code",
   "execution_count": null,
   "id": "72580516-a84d-4422-85be-02935f5bcd8f",
   "metadata": {},
   "outputs": [],
   "source": [
    "Q4. Create a list of numbers from 1 to 100. Use for loop and while loop to calculate\n",
    "the cube of each number and if the cube of that number is divisible by 4 or 5 then append\n",
    "that number in a list and print that list."
   ]
  },
  {
   "cell_type": "code",
   "execution_count": null,
   "id": "cbc32f5b-33c0-461b-968a-d4db1363bf1d",
   "metadata": {},
   "outputs": [],
   "source": [
    "Ans:-Using for loop"
   ]
  },
  {
   "cell_type": "code",
   "execution_count": 6,
   "id": "28f7ea6c-06d3-4dc8-94d9-9b40685f824c",
   "metadata": {},
   "outputs": [
    {
     "name": "stdout",
     "output_type": "stream",
     "text": [
      "[2, 4, 5, 6, 8, 10, 12, 14, 15, 16, 18, 20, 22, 24, 25, 26, 28, 30, 32, 34, 35, 36, 38, 40, 42, 44, 45, 46, 48, 50, 52, 54, 55, 56, 58, 60, 62, 64, 65, 66, 68, 70, 72, 74, 75, 76, 78, 80, 82, 84, 85, 86, 88, 90, 92, 94, 95, 96, 98, 100]\n"
     ]
    }
   ],
   "source": [
    "cubes = []\n",
    "for num in range(1, 101):\n",
    "    cube = num ** 3\n",
    "    if cube % 4 == 0 or cube % 5 == 0:\n",
    "        cubes.append(num)\n",
    "print(cubes)"
   ]
  },
  {
   "cell_type": "code",
   "execution_count": null,
   "id": "077618c8-1b1b-4d65-8bba-5c9afdeecd30",
   "metadata": {},
   "outputs": [],
   "source": [
    "     Using while loop:"
   ]
  },
  {
   "cell_type": "code",
   "execution_count": 7,
   "id": "a5fa716b-69e2-4dde-bdfa-f1484eb87897",
   "metadata": {},
   "outputs": [
    {
     "name": "stdout",
     "output_type": "stream",
     "text": [
      "[2, 4, 5, 6, 8, 10, 12, 14, 15, 16, 18, 20, 22, 24, 25, 26, 28, 30, 32, 34, 35, 36, 38, 40, 42, 44, 45, 46, 48, 50, 52, 54, 55, 56, 58, 60, 62, 64, 65, 66, 68, 70, 72, 74, 75, 76, 78, 80, 82, 84, 85, 86, 88, 90, 92, 94, 95, 96, 98, 100]\n"
     ]
    }
   ],
   "source": [
    "cubes = []\n",
    "num = 1\n",
    "while num <= 100:\n",
    "    cube = num ** 3\n",
    "    if cube % 4 == 0 or cube % 5 == 0:\n",
    "        cubes.append(num)\n",
    "    num = num + 1\n",
    "print(cubes)"
   ]
  },
  {
   "cell_type": "code",
   "execution_count": null,
   "id": "b6d1df41-ac63-4975-bf00-c5679faed3ba",
   "metadata": {},
   "outputs": [],
   "source": []
  },
  {
   "cell_type": "code",
   "execution_count": null,
   "id": "5b579b70-0aa8-46df-a19a-5e4fbd5a0445",
   "metadata": {},
   "outputs": [],
   "source": []
  },
  {
   "cell_type": "raw",
   "id": "7d63332a-f4ff-416e-8890-0425bdcd1150",
   "metadata": {},
   "source": [
    "Q5. Write a program to filter count vowels in the below-given string.\n",
    "string = \"I want to become a data scientist\""
   ]
  },
  {
   "cell_type": "raw",
   "id": "2a51d04d-22a0-4471-944a-cfddb15c379f",
   "metadata": {},
   "source": [
    "Ans:-"
   ]
  },
  {
   "cell_type": "code",
   "execution_count": 9,
   "id": "7267fbf9-3b49-4c89-8ad2-2007e2cf5f84",
   "metadata": {},
   "outputs": [
    {
     "name": "stdout",
     "output_type": "stream",
     "text": [
      "Total vowels in the string: 12\n"
     ]
    }
   ],
   "source": [
    "string = \"I ant to become a data scientist\"\n",
    "vowels = \"aeiouAEIOU\"\n",
    "\n",
    "vowel_count = 0\n",
    "for char in string:\n",
    "    if char in vowels:\n",
    "        vowel_count = vowel_count + 1\n",
    "        \n",
    "print(\"Total vowels in the string:\", vowel_count)"
   ]
  },
  {
   "cell_type": "code",
   "execution_count": null,
   "id": "c16d4b1b-3b51-43e3-b990-f92d3eafeb48",
   "metadata": {},
   "outputs": [],
   "source": []
  }
 ],
 "metadata": {
  "kernelspec": {
   "display_name": "Python 3 (ipykernel)",
   "language": "python",
   "name": "python3"
  },
  "language_info": {
   "codemirror_mode": {
    "name": "ipython",
    "version": 3
   },
   "file_extension": ".py",
   "mimetype": "text/x-python",
   "name": "python",
   "nbconvert_exporter": "python",
   "pygments_lexer": "ipython3",
   "version": "3.10.8"
  }
 },
 "nbformat": 4,
 "nbformat_minor": 5
}
